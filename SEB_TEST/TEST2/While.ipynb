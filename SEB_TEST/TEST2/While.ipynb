{
 "cells": [
  {
   "cell_type": "code",
   "execution_count": 1,
   "metadata": {},
   "outputs": [
    {
     "name": "stdout",
     "output_type": "stream",
     "text": [
      "En 2036, il y aura : 51650.1335731392 tonnes\n"
     ]
    }
   ],
   "source": [
    "R=5000\n",
    "T=5000\n",
    "N=2016\n",
    "\n",
    "while R>1000:\n",
    "    R=R*0.92\n",
    "    T=T+R\n",
    "    N=N+1\n",
    "print (f\"En {N}, il y aura : {T} tonnes\")"
   ]
  }
 ],
 "metadata": {
  "interpreter": {
   "hash": "52571a9246f6ef378e3f07045a120efce1c4f4ec59b3de4e0f621ed3b3f7cab2"
  },
  "kernelspec": {
   "display_name": "Python 3.10.0 64-bit",
   "language": "python",
   "name": "python3"
  },
  "language_info": {
   "codemirror_mode": {
    "name": "ipython",
    "version": 3
   },
   "file_extension": ".py",
   "mimetype": "text/x-python",
   "name": "python",
   "nbconvert_exporter": "python",
   "pygments_lexer": "ipython3",
   "version": "3.10.0"
  },
  "orig_nbformat": 4
 },
 "nbformat": 4,
 "nbformat_minor": 2
}
