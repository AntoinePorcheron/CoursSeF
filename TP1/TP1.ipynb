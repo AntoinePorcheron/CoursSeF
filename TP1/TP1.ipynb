{
 "cells": [
  {
   "cell_type": "code",
   "execution_count": 1,
   "metadata": {},
   "outputs": [
    {
     "name": "stdout",
     "output_type": "stream",
     "text": [
      "pygame 2.1.0 (SDL 2.0.16, Python 3.10.0)\n",
      "Hello from the pygame community. https://www.pygame.org/contribute.html\n"
     ]
    }
   ],
   "source": [
    "import pygame\n",
    "# par la même occasion cela importe pygame.locals dans l'espace de nom de Pygame\n",
    "\n",
    "pygame.init()\n",
    "\n",
    "ecran = pygame.display.set_mode((300, 200))\n",
    "\n",
    "continuer = True\n",
    "\n",
    "while continuer:\n",
    "    for event in pygame.event.get():\n",
    "        if event.type == pygame.KEYDOWN:\n",
    "            continuer = False\n",
    "\n",
    "pygame.quit()"
   ]
  }
 ],
 "metadata": {
  "interpreter": {
   "hash": "52571a9246f6ef378e3f07045a120efce1c4f4ec59b3de4e0f621ed3b3f7cab2"
  },
  "kernelspec": {
   "display_name": "Python 3.10.0 64-bit",
   "language": "python",
   "name": "python3"
  },
  "language_info": {
   "codemirror_mode": {
    "name": "ipython",
    "version": 3
   },
   "file_extension": ".py",
   "mimetype": "text/x-python",
   "name": "python",
   "nbconvert_exporter": "python",
   "pygments_lexer": "ipython3",
   "version": "3.10.0"
  },
  "orig_nbformat": 4
 },
 "nbformat": 4,
 "nbformat_minor": 2
}
